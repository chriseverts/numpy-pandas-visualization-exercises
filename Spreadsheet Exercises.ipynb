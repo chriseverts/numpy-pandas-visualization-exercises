{
 "cells": [
  {
   "cell_type": "code",
   "execution_count": 2,
   "id": "85fdb449",
   "metadata": {},
   "outputs": [
    {
     "name": "stdout",
     "output_type": "stream",
     "text": [
      "     customer_id  gender  is_senior_citizen partner dependents  phone_service  \\\n",
      "0     0003-MKNFE    Male                  0      No         No              2   \n",
      "1     0004-TLHLJ    Male                  0      No         No              1   \n",
      "2     0011-IGKFF    Male                  1     Yes         No              1   \n",
      "3     0013-EXCHZ  Female                  1     Yes         No              1   \n",
      "4     0013-MHZWF  Female                  0      No        Yes              1   \n",
      "...          ...     ...                ...     ...        ...            ...   \n",
      "3870  9975-SKRNR    Male                  0      No         No              1   \n",
      "3871  9985-MWVIX  Female                  0      No         No              1   \n",
      "3872  9986-BONCE  Female                  0      No         No              1   \n",
      "3873  9992-RRAMN    Male                  0     Yes         No              2   \n",
      "3874  9992-UJOEL    Male                  0      No         No              1   \n",
      "\n",
      "      internet_service  contract_type               payment_type  \\\n",
      "0                    1              0               Mailed check   \n",
      "1                    2              0           Electronic check   \n",
      "2                    2              0           Electronic check   \n",
      "3                    2              0               Mailed check   \n",
      "4                    1              0    Credit card (automatic)   \n",
      "...                ...            ...                        ...   \n",
      "3870                 0              0               Mailed check   \n",
      "3871                 2              0               Mailed check   \n",
      "3872                 0              0  Bank transfer (automatic)   \n",
      "3873                 2              0           Electronic check   \n",
      "3874                 1              0               Mailed check   \n",
      "\n",
      "      monthly_charges  ...  contract_type_desc    phone_type_desc  \\\n",
      "0               59.90  ...      Month-to-Month  Two or More Lines   \n",
      "1               73.90  ...      Month-to-Month           One Line   \n",
      "2               98.00  ...      Month-to-Month           One Line   \n",
      "3               83.90  ...      Month-to-Month           One Line   \n",
      "4               69.40  ...      Month-to-Month           One Line   \n",
      "...               ...  ...                 ...                ...   \n",
      "3870            18.90  ...      Month-to-Month           One Line   \n",
      "3871            70.15  ...      Month-to-Month           One Line   \n",
      "3872            20.95  ...      Month-to-Month           One Line   \n",
      "3873            85.10  ...      Month-to-Month  Two or More Lines   \n",
      "3874            50.30  ...      Month-to-Month           One Line   \n",
      "\n",
      "       internet_type_desc  Monthly Charges with Discount  Changes to Churn  \\\n",
      "0                     DSL                           49.9                No   \n",
      "1             Fiber Optic                            0.0               Yes   \n",
      "2             Fiber Optic                           88.0                No   \n",
      "3             Fiber Optic                            0.0               Yes   \n",
      "4                     DSL                           59.4                No   \n",
      "...                   ...                            ...               ...   \n",
      "3870  No Internet Service                            0.0                No   \n",
      "3871          Fiber Optic                            0.0               Yes   \n",
      "3872  No Internet Service                            0.0               Yes   \n",
      "3873          Fiber Optic                           75.1                No   \n",
      "3874                  DSL                            0.0                No   \n",
      "\n",
      "      Unnamed: 24  Unnamed: 25  Unnamed: 26 Unnamed: 27 Unnamed: 28  \n",
      "0             NaN          NaN          NaN         NaN         NaN  \n",
      "1             NaN          NaN          NaN         NaN         NaN  \n",
      "2             NaN          NaN          NaN         NaN         NaN  \n",
      "3             NaN          NaN          NaN         NaN         NaN  \n",
      "4             NaN          NaN          NaN         NaN         NaN  \n",
      "...           ...          ...          ...         ...         ...  \n",
      "3870          NaN          NaN          NaN         NaN         NaN  \n",
      "3871          NaN          NaN          NaN         NaN         NaN  \n",
      "3872          NaN          NaN          NaN         NaN         NaN  \n",
      "3873          NaN          NaN          NaN         NaN         NaN  \n",
      "3874          NaN          NaN          NaN         NaN         NaN  \n",
      "\n",
      "[3875 rows x 29 columns]\n"
     ]
    }
   ],
   "source": [
    "import pandas as pd\n",
    "\n",
    "\n",
    "\n",
    "df = pd.read_excel(r'/Users/chris/Downloads/Telco.xlsx' )\n",
    "\n",
    "print(df)\n",
    "\n",
    "\n"
   ]
  },
  {
   "cell_type": "code",
   "execution_count": 3,
   "id": "634d02c0",
   "metadata": {},
   "outputs": [
    {
     "ename": "FileNotFoundError",
     "evalue": "[Errno 2] No such file or directory: '/Users/chris/Downloads/Telco.csv'",
     "output_type": "error",
     "traceback": [
      "\u001b[0;31m---------------------------------------------------------------------------\u001b[0m",
      "\u001b[0;31mFileNotFoundError\u001b[0m                         Traceback (most recent call last)",
      "\u001b[0;32m<ipython-input-3-9fabcb27cad5>\u001b[0m in \u001b[0;36m<module>\u001b[0;34m\u001b[0m\n\u001b[0;32m----> 1\u001b[0;31m \u001b[0mdf\u001b[0m \u001b[0;34m=\u001b[0m \u001b[0mpd\u001b[0m\u001b[0;34m.\u001b[0m\u001b[0mread_csv\u001b[0m \u001b[0;34m(\u001b[0m\u001b[0;34mr'/Users/chris/Downloads/Telco.csv'\u001b[0m\u001b[0;34m)\u001b[0m\u001b[0;34m\u001b[0m\u001b[0;34m\u001b[0m\u001b[0m\n\u001b[0m\u001b[1;32m      2\u001b[0m \u001b[0mprint\u001b[0m \u001b[0;34m(\u001b[0m\u001b[0mdf\u001b[0m\u001b[0;34m)\u001b[0m\u001b[0;34m\u001b[0m\u001b[0;34m\u001b[0m\u001b[0m\n",
      "\u001b[0;32m/usr/local/anaconda3/lib/python3.8/site-packages/pandas/io/parsers.py\u001b[0m in \u001b[0;36mread_csv\u001b[0;34m(filepath_or_buffer, sep, delimiter, header, names, index_col, usecols, squeeze, prefix, mangle_dupe_cols, dtype, engine, converters, true_values, false_values, skipinitialspace, skiprows, skipfooter, nrows, na_values, keep_default_na, na_filter, verbose, skip_blank_lines, parse_dates, infer_datetime_format, keep_date_col, date_parser, dayfirst, cache_dates, iterator, chunksize, compression, thousands, decimal, lineterminator, quotechar, quoting, doublequote, escapechar, comment, encoding, dialect, error_bad_lines, warn_bad_lines, delim_whitespace, low_memory, memory_map, float_precision, storage_options)\u001b[0m\n\u001b[1;32m    608\u001b[0m     \u001b[0mkwds\u001b[0m\u001b[0;34m.\u001b[0m\u001b[0mupdate\u001b[0m\u001b[0;34m(\u001b[0m\u001b[0mkwds_defaults\u001b[0m\u001b[0;34m)\u001b[0m\u001b[0;34m\u001b[0m\u001b[0;34m\u001b[0m\u001b[0m\n\u001b[1;32m    609\u001b[0m \u001b[0;34m\u001b[0m\u001b[0m\n\u001b[0;32m--> 610\u001b[0;31m     \u001b[0;32mreturn\u001b[0m \u001b[0m_read\u001b[0m\u001b[0;34m(\u001b[0m\u001b[0mfilepath_or_buffer\u001b[0m\u001b[0;34m,\u001b[0m \u001b[0mkwds\u001b[0m\u001b[0;34m)\u001b[0m\u001b[0;34m\u001b[0m\u001b[0;34m\u001b[0m\u001b[0m\n\u001b[0m\u001b[1;32m    611\u001b[0m \u001b[0;34m\u001b[0m\u001b[0m\n\u001b[1;32m    612\u001b[0m \u001b[0;34m\u001b[0m\u001b[0m\n",
      "\u001b[0;32m/usr/local/anaconda3/lib/python3.8/site-packages/pandas/io/parsers.py\u001b[0m in \u001b[0;36m_read\u001b[0;34m(filepath_or_buffer, kwds)\u001b[0m\n\u001b[1;32m    460\u001b[0m \u001b[0;34m\u001b[0m\u001b[0m\n\u001b[1;32m    461\u001b[0m     \u001b[0;31m# Create the parser.\u001b[0m\u001b[0;34m\u001b[0m\u001b[0;34m\u001b[0m\u001b[0;34m\u001b[0m\u001b[0m\n\u001b[0;32m--> 462\u001b[0;31m     \u001b[0mparser\u001b[0m \u001b[0;34m=\u001b[0m \u001b[0mTextFileReader\u001b[0m\u001b[0;34m(\u001b[0m\u001b[0mfilepath_or_buffer\u001b[0m\u001b[0;34m,\u001b[0m \u001b[0;34m**\u001b[0m\u001b[0mkwds\u001b[0m\u001b[0;34m)\u001b[0m\u001b[0;34m\u001b[0m\u001b[0;34m\u001b[0m\u001b[0m\n\u001b[0m\u001b[1;32m    463\u001b[0m \u001b[0;34m\u001b[0m\u001b[0m\n\u001b[1;32m    464\u001b[0m     \u001b[0;32mif\u001b[0m \u001b[0mchunksize\u001b[0m \u001b[0;32mor\u001b[0m \u001b[0miterator\u001b[0m\u001b[0;34m:\u001b[0m\u001b[0;34m\u001b[0m\u001b[0;34m\u001b[0m\u001b[0m\n",
      "\u001b[0;32m/usr/local/anaconda3/lib/python3.8/site-packages/pandas/io/parsers.py\u001b[0m in \u001b[0;36m__init__\u001b[0;34m(self, f, engine, **kwds)\u001b[0m\n\u001b[1;32m    817\u001b[0m             \u001b[0mself\u001b[0m\u001b[0;34m.\u001b[0m\u001b[0moptions\u001b[0m\u001b[0;34m[\u001b[0m\u001b[0;34m\"has_index_names\"\u001b[0m\u001b[0;34m]\u001b[0m \u001b[0;34m=\u001b[0m \u001b[0mkwds\u001b[0m\u001b[0;34m[\u001b[0m\u001b[0;34m\"has_index_names\"\u001b[0m\u001b[0;34m]\u001b[0m\u001b[0;34m\u001b[0m\u001b[0;34m\u001b[0m\u001b[0m\n\u001b[1;32m    818\u001b[0m \u001b[0;34m\u001b[0m\u001b[0m\n\u001b[0;32m--> 819\u001b[0;31m         \u001b[0mself\u001b[0m\u001b[0;34m.\u001b[0m\u001b[0m_engine\u001b[0m \u001b[0;34m=\u001b[0m \u001b[0mself\u001b[0m\u001b[0;34m.\u001b[0m\u001b[0m_make_engine\u001b[0m\u001b[0;34m(\u001b[0m\u001b[0mself\u001b[0m\u001b[0;34m.\u001b[0m\u001b[0mengine\u001b[0m\u001b[0;34m)\u001b[0m\u001b[0;34m\u001b[0m\u001b[0;34m\u001b[0m\u001b[0m\n\u001b[0m\u001b[1;32m    820\u001b[0m \u001b[0;34m\u001b[0m\u001b[0m\n\u001b[1;32m    821\u001b[0m     \u001b[0;32mdef\u001b[0m \u001b[0mclose\u001b[0m\u001b[0;34m(\u001b[0m\u001b[0mself\u001b[0m\u001b[0;34m)\u001b[0m\u001b[0;34m:\u001b[0m\u001b[0;34m\u001b[0m\u001b[0;34m\u001b[0m\u001b[0m\n",
      "\u001b[0;32m/usr/local/anaconda3/lib/python3.8/site-packages/pandas/io/parsers.py\u001b[0m in \u001b[0;36m_make_engine\u001b[0;34m(self, engine)\u001b[0m\n\u001b[1;32m   1048\u001b[0m             )\n\u001b[1;32m   1049\u001b[0m         \u001b[0;31m# error: Too many arguments for \"ParserBase\"\u001b[0m\u001b[0;34m\u001b[0m\u001b[0;34m\u001b[0m\u001b[0;34m\u001b[0m\u001b[0m\n\u001b[0;32m-> 1050\u001b[0;31m         \u001b[0;32mreturn\u001b[0m \u001b[0mmapping\u001b[0m\u001b[0;34m[\u001b[0m\u001b[0mengine\u001b[0m\u001b[0;34m]\u001b[0m\u001b[0;34m(\u001b[0m\u001b[0mself\u001b[0m\u001b[0;34m.\u001b[0m\u001b[0mf\u001b[0m\u001b[0;34m,\u001b[0m \u001b[0;34m**\u001b[0m\u001b[0mself\u001b[0m\u001b[0;34m.\u001b[0m\u001b[0moptions\u001b[0m\u001b[0;34m)\u001b[0m  \u001b[0;31m# type: ignore[call-arg]\u001b[0m\u001b[0;34m\u001b[0m\u001b[0;34m\u001b[0m\u001b[0m\n\u001b[0m\u001b[1;32m   1051\u001b[0m \u001b[0;34m\u001b[0m\u001b[0m\n\u001b[1;32m   1052\u001b[0m     \u001b[0;32mdef\u001b[0m \u001b[0m_failover_to_python\u001b[0m\u001b[0;34m(\u001b[0m\u001b[0mself\u001b[0m\u001b[0;34m)\u001b[0m\u001b[0;34m:\u001b[0m\u001b[0;34m\u001b[0m\u001b[0;34m\u001b[0m\u001b[0m\n",
      "\u001b[0;32m/usr/local/anaconda3/lib/python3.8/site-packages/pandas/io/parsers.py\u001b[0m in \u001b[0;36m__init__\u001b[0;34m(self, src, **kwds)\u001b[0m\n\u001b[1;32m   1865\u001b[0m \u001b[0;34m\u001b[0m\u001b[0m\n\u001b[1;32m   1866\u001b[0m         \u001b[0;31m# open handles\u001b[0m\u001b[0;34m\u001b[0m\u001b[0;34m\u001b[0m\u001b[0;34m\u001b[0m\u001b[0m\n\u001b[0;32m-> 1867\u001b[0;31m         \u001b[0mself\u001b[0m\u001b[0;34m.\u001b[0m\u001b[0m_open_handles\u001b[0m\u001b[0;34m(\u001b[0m\u001b[0msrc\u001b[0m\u001b[0;34m,\u001b[0m \u001b[0mkwds\u001b[0m\u001b[0;34m)\u001b[0m\u001b[0;34m\u001b[0m\u001b[0;34m\u001b[0m\u001b[0m\n\u001b[0m\u001b[1;32m   1868\u001b[0m         \u001b[0;32massert\u001b[0m \u001b[0mself\u001b[0m\u001b[0;34m.\u001b[0m\u001b[0mhandles\u001b[0m \u001b[0;32mis\u001b[0m \u001b[0;32mnot\u001b[0m \u001b[0;32mNone\u001b[0m\u001b[0;34m\u001b[0m\u001b[0;34m\u001b[0m\u001b[0m\n\u001b[1;32m   1869\u001b[0m         \u001b[0;32mfor\u001b[0m \u001b[0mkey\u001b[0m \u001b[0;32min\u001b[0m \u001b[0;34m(\u001b[0m\u001b[0;34m\"storage_options\"\u001b[0m\u001b[0;34m,\u001b[0m \u001b[0;34m\"encoding\"\u001b[0m\u001b[0;34m,\u001b[0m \u001b[0;34m\"memory_map\"\u001b[0m\u001b[0;34m,\u001b[0m \u001b[0;34m\"compression\"\u001b[0m\u001b[0;34m)\u001b[0m\u001b[0;34m:\u001b[0m\u001b[0;34m\u001b[0m\u001b[0;34m\u001b[0m\u001b[0m\n",
      "\u001b[0;32m/usr/local/anaconda3/lib/python3.8/site-packages/pandas/io/parsers.py\u001b[0m in \u001b[0;36m_open_handles\u001b[0;34m(self, src, kwds)\u001b[0m\n\u001b[1;32m   1360\u001b[0m         \u001b[0mLet\u001b[0m \u001b[0mthe\u001b[0m \u001b[0mreaders\u001b[0m \u001b[0mopen\u001b[0m \u001b[0mIOHanldes\u001b[0m \u001b[0mafter\u001b[0m \u001b[0mthey\u001b[0m \u001b[0mare\u001b[0m \u001b[0mdone\u001b[0m \u001b[0;32mwith\u001b[0m \u001b[0mtheir\u001b[0m \u001b[0mpotential\u001b[0m \u001b[0mraises\u001b[0m\u001b[0;34m.\u001b[0m\u001b[0;34m\u001b[0m\u001b[0;34m\u001b[0m\u001b[0m\n\u001b[1;32m   1361\u001b[0m         \"\"\"\n\u001b[0;32m-> 1362\u001b[0;31m         self.handles = get_handle(\n\u001b[0m\u001b[1;32m   1363\u001b[0m             \u001b[0msrc\u001b[0m\u001b[0;34m,\u001b[0m\u001b[0;34m\u001b[0m\u001b[0;34m\u001b[0m\u001b[0m\n\u001b[1;32m   1364\u001b[0m             \u001b[0;34m\"r\"\u001b[0m\u001b[0;34m,\u001b[0m\u001b[0;34m\u001b[0m\u001b[0;34m\u001b[0m\u001b[0m\n",
      "\u001b[0;32m/usr/local/anaconda3/lib/python3.8/site-packages/pandas/io/common.py\u001b[0m in \u001b[0;36mget_handle\u001b[0;34m(path_or_buf, mode, encoding, compression, memory_map, is_text, errors, storage_options)\u001b[0m\n\u001b[1;32m    640\u001b[0m                 \u001b[0merrors\u001b[0m \u001b[0;34m=\u001b[0m \u001b[0;34m\"replace\"\u001b[0m\u001b[0;34m\u001b[0m\u001b[0;34m\u001b[0m\u001b[0m\n\u001b[1;32m    641\u001b[0m             \u001b[0;31m# Encoding\u001b[0m\u001b[0;34m\u001b[0m\u001b[0;34m\u001b[0m\u001b[0;34m\u001b[0m\u001b[0m\n\u001b[0;32m--> 642\u001b[0;31m             handle = open(\n\u001b[0m\u001b[1;32m    643\u001b[0m                 \u001b[0mhandle\u001b[0m\u001b[0;34m,\u001b[0m\u001b[0;34m\u001b[0m\u001b[0;34m\u001b[0m\u001b[0m\n\u001b[1;32m    644\u001b[0m                 \u001b[0mioargs\u001b[0m\u001b[0;34m.\u001b[0m\u001b[0mmode\u001b[0m\u001b[0;34m,\u001b[0m\u001b[0;34m\u001b[0m\u001b[0;34m\u001b[0m\u001b[0m\n",
      "\u001b[0;31mFileNotFoundError\u001b[0m: [Errno 2] No such file or directory: '/Users/chris/Downloads/Telco.csv'"
     ]
    }
   ],
   "source": [
    "df = pd.read_csv (r'/Users/chris/Downloads/Telco.csv')\n",
    "print (df)"
   ]
  },
  {
   "cell_type": "code",
   "execution_count": 4,
   "id": "c6f6b593",
   "metadata": {},
   "outputs": [
    {
     "data": {
      "text/plain": [
       "<bound method NDFrame.describe of      customer_id  gender  is_senior_citizen partner dependents  phone_service  \\\n",
       "0     0003-MKNFE    Male                  0      No         No              2   \n",
       "1     0004-TLHLJ    Male                  0      No         No              1   \n",
       "2     0011-IGKFF    Male                  1     Yes         No              1   \n",
       "3     0013-EXCHZ  Female                  1     Yes         No              1   \n",
       "4     0013-MHZWF  Female                  0      No        Yes              1   \n",
       "...          ...     ...                ...     ...        ...            ...   \n",
       "3870  9975-SKRNR    Male                  0      No         No              1   \n",
       "3871  9985-MWVIX  Female                  0      No         No              1   \n",
       "3872  9986-BONCE  Female                  0      No         No              1   \n",
       "3873  9992-RRAMN    Male                  0     Yes         No              2   \n",
       "3874  9992-UJOEL    Male                  0      No         No              1   \n",
       "\n",
       "      internet_service  contract_type               payment_type  \\\n",
       "0                    1              0               Mailed check   \n",
       "1                    2              0           Electronic check   \n",
       "2                    2              0           Electronic check   \n",
       "3                    2              0               Mailed check   \n",
       "4                    1              0    Credit card (automatic)   \n",
       "...                ...            ...                        ...   \n",
       "3870                 0              0               Mailed check   \n",
       "3871                 2              0               Mailed check   \n",
       "3872                 0              0  Bank transfer (automatic)   \n",
       "3873                 2              0           Electronic check   \n",
       "3874                 1              0               Mailed check   \n",
       "\n",
       "      monthly_charges  ...  contract_type_desc    phone_type_desc  \\\n",
       "0               59.90  ...      Month-to-Month  Two or More Lines   \n",
       "1               73.90  ...      Month-to-Month           One Line   \n",
       "2               98.00  ...      Month-to-Month           One Line   \n",
       "3               83.90  ...      Month-to-Month           One Line   \n",
       "4               69.40  ...      Month-to-Month           One Line   \n",
       "...               ...  ...                 ...                ...   \n",
       "3870            18.90  ...      Month-to-Month           One Line   \n",
       "3871            70.15  ...      Month-to-Month           One Line   \n",
       "3872            20.95  ...      Month-to-Month           One Line   \n",
       "3873            85.10  ...      Month-to-Month  Two or More Lines   \n",
       "3874            50.30  ...      Month-to-Month           One Line   \n",
       "\n",
       "       internet_type_desc  Monthly Charges with Discount  Changes to Churn  \\\n",
       "0                     DSL                           49.9                No   \n",
       "1             Fiber Optic                            0.0               Yes   \n",
       "2             Fiber Optic                           88.0                No   \n",
       "3             Fiber Optic                            0.0               Yes   \n",
       "4                     DSL                           59.4                No   \n",
       "...                   ...                            ...               ...   \n",
       "3870  No Internet Service                            0.0                No   \n",
       "3871          Fiber Optic                            0.0               Yes   \n",
       "3872  No Internet Service                            0.0               Yes   \n",
       "3873          Fiber Optic                           75.1                No   \n",
       "3874                  DSL                            0.0                No   \n",
       "\n",
       "      Unnamed: 24  Unnamed: 25  Unnamed: 26 Unnamed: 27 Unnamed: 28  \n",
       "0             NaN          NaN          NaN         NaN         NaN  \n",
       "1             NaN          NaN          NaN         NaN         NaN  \n",
       "2             NaN          NaN          NaN         NaN         NaN  \n",
       "3             NaN          NaN          NaN         NaN         NaN  \n",
       "4             NaN          NaN          NaN         NaN         NaN  \n",
       "...           ...          ...          ...         ...         ...  \n",
       "3870          NaN          NaN          NaN         NaN         NaN  \n",
       "3871          NaN          NaN          NaN         NaN         NaN  \n",
       "3872          NaN          NaN          NaN         NaN         NaN  \n",
       "3873          NaN          NaN          NaN         NaN         NaN  \n",
       "3874          NaN          NaN          NaN         NaN         NaN  \n",
       "\n",
       "[3875 rows x 29 columns]>"
      ]
     },
     "execution_count": 4,
     "metadata": {},
     "output_type": "execute_result"
    }
   ],
   "source": [
    "df.describe\n"
   ]
  },
  {
   "cell_type": "code",
   "execution_count": 5,
   "id": "4ff27c2c",
   "metadata": {},
   "outputs": [
    {
     "data": {
      "text/plain": [
       "(3875, 29)"
      ]
     },
     "execution_count": 5,
     "metadata": {},
     "output_type": "execute_result"
    }
   ],
   "source": [
    "df.shape\n"
   ]
  },
  {
   "cell_type": "code",
   "execution_count": 6,
   "id": "439dc345",
   "metadata": {},
   "outputs": [
    {
     "data": {
      "text/plain": [
       "1369.2545806451599"
      ]
     },
     "execution_count": 6,
     "metadata": {},
     "output_type": "execute_result"
    }
   ],
   "source": [
    "df.total_charges.mean()\n",
    "\n"
   ]
  },
  {
   "cell_type": "code",
   "execution_count": null,
   "id": "3d18ad37",
   "metadata": {},
   "outputs": [],
   "source": []
  }
 ],
 "metadata": {
  "kernelspec": {
   "display_name": "Python 3",
   "language": "python",
   "name": "python3"
  },
  "language_info": {
   "codemirror_mode": {
    "name": "ipython",
    "version": 3
   },
   "file_extension": ".py",
   "mimetype": "text/x-python",
   "name": "python",
   "nbconvert_exporter": "python",
   "pygments_lexer": "ipython3",
   "version": "3.8.8"
  }
 },
 "nbformat": 4,
 "nbformat_minor": 5
}
