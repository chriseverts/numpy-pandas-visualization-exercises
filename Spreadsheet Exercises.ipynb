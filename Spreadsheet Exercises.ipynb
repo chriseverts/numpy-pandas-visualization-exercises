{
 "cells": [
  {
   "cell_type": "code",
   "execution_count": 3,
   "id": "85fdb449",
   "metadata": {},
   "outputs": [
    {
     "name": "stdout",
     "output_type": "stream",
     "text": [
      "     customer_id  gender  is_senior_citizen partner dependents  phone_service  \\\n",
      "0     0002-ORFBO  Female                  0     Yes        Yes              1   \n",
      "1     0003-MKNFE    Male                  0      No         No              2   \n",
      "2     0004-TLHLJ    Male                  0      No         No              1   \n",
      "3     0011-IGKFF    Male                  1     Yes         No              1   \n",
      "4     0013-EXCHZ  Female                  1     Yes         No              1   \n",
      "...          ...     ...                ...     ...        ...            ...   \n",
      "7044  9987-LUTYD  Female                  0      No         No              1   \n",
      "7045  9992-RRAMN    Male                  0     Yes         No              2   \n",
      "7046  9992-UJOEL    Male                  0      No         No              1   \n",
      "7047  9993-LHIEB    Male                  0     Yes        Yes              1   \n",
      "7048  9995-HOTOH    Male                  0     Yes        Yes              0   \n",
      "\n",
      "      internet_service  contract_type      payment_type  monthly_charges  \\\n",
      "0                    1              1      Mailed check            65.60   \n",
      "1                    1              0      Mailed check            59.90   \n",
      "2                    2              0  Electronic check            73.90   \n",
      "3                    2              0  Electronic check            98.00   \n",
      "4                    2              0      Mailed check            83.90   \n",
      "...                ...            ...               ...              ...   \n",
      "7044                 1              1      Mailed check            55.15   \n",
      "7045                 2              0  Electronic check            85.10   \n",
      "7046                 1              0      Mailed check            50.30   \n",
      "7047                 1              2      Mailed check            67.85   \n",
      "7048                 1              2  Electronic check            59.00   \n",
      "\n",
      "      total_charges churn  Unnamed: 12  Unnamed: 13  \n",
      "0            593.30    No          NaN          NaN  \n",
      "1            542.40    No          NaN          NaN  \n",
      "2            280.85   Yes          NaN          NaN  \n",
      "3           1237.85   Yes          NaN          NaN  \n",
      "4            267.40   Yes          NaN          NaN  \n",
      "...             ...   ...          ...          ...  \n",
      "7044         742.90    No          NaN          NaN  \n",
      "7045        1873.70   Yes          NaN          NaN  \n",
      "7046          92.75    No          NaN          NaN  \n",
      "7047        4627.65    No          NaN          NaN  \n",
      "7048        3707.60    No          NaN          NaN  \n",
      "\n",
      "[7049 rows x 14 columns]\n"
     ]
    }
   ],
   "source": [
    "import pandas as pd\n",
    "\n",
    "\n",
    "\n",
    "df = pd.read_excel(r'/Users/chris/Downloads/Spreadsheets_Exercises (1).xlsx' )\n",
    "\n",
    "print(df)\n",
    "\n"
   ]
  },
  {
   "cell_type": "code",
   "execution_count": 4,
   "id": "634d02c0",
   "metadata": {},
   "outputs": [
    {
     "name": "stderr",
     "output_type": "stream",
     "text": [
      "/usr/local/anaconda3/lib/python3.8/site-packages/IPython/core/interactiveshell.py:3165: DtypeWarning: Columns (0,1,3,4,8,11,26,27,28,29,31,32,33,34,35,50,51,130) have mixed types.Specify dtype option on import or set low_memory=False.\n",
      "  has_raised = await self.run_ast_nodes(code_ast.body, cell_name,\n"
     ]
    },
    {
     "name": "stdout",
     "output_type": "stream",
     "text": [
      "        customer_id  gender  is_senior_citizen partner dependents  \\\n",
      "0        0002-ORFBO  Female                0.0     Yes        Yes   \n",
      "1        0003-MKNFE    Male                0.0      No         No   \n",
      "2        0004-TLHLJ    Male                0.0      No         No   \n",
      "3        0011-IGKFF    Male                1.0     Yes         No   \n",
      "4        0013-EXCHZ  Female                1.0     Yes         No   \n",
      "...             ...     ...                ...     ...        ...   \n",
      "1048570         NaN     NaN                NaN     NaN        NaN   \n",
      "1048571         NaN     NaN                NaN     NaN        NaN   \n",
      "1048572         NaN     NaN                NaN     NaN        NaN   \n",
      "1048573         NaN     NaN                NaN     NaN        NaN   \n",
      "1048574         NaN     NaN                NaN     NaN        NaN   \n",
      "\n",
      "         phone_service  internet_service  contract_type      payment_type  \\\n",
      "0                  1.0               1.0            1.0      Mailed check   \n",
      "1                  2.0               1.0            0.0      Mailed check   \n",
      "2                  1.0               2.0            0.0  Electronic check   \n",
      "3                  1.0               2.0            0.0  Electronic check   \n",
      "4                  1.0               2.0            0.0      Mailed check   \n",
      "...                ...               ...            ...               ...   \n",
      "1048570            NaN               NaN            NaN               NaN   \n",
      "1048571            NaN               NaN            NaN               NaN   \n",
      "1048572            NaN               NaN            NaN               NaN   \n",
      "1048573            NaN               NaN            NaN               NaN   \n",
      "1048574            NaN               NaN            NaN               NaN   \n",
      "\n",
      "         monthly_charges  ...  Unnamed: 121 Unnamed: 122  Unnamed: 123  \\\n",
      "0                   65.6  ...           NaN          NaN           NaN   \n",
      "1                   59.9  ...           NaN          NaN           NaN   \n",
      "2                   73.9  ...         70.00        71.00         72.00   \n",
      "3                   98.0  ...         91.89        93.05         98.77   \n",
      "4                   83.9  ...         56.53        51.60         49.91   \n",
      "...                  ...  ...           ...          ...           ...   \n",
      "1048570              NaN  ...           NaN          NaN           NaN   \n",
      "1048571              NaN  ...           NaN          NaN           NaN   \n",
      "1048572              NaN  ...           NaN          NaN           NaN   \n",
      "1048573              NaN  ...           NaN          NaN           NaN   \n",
      "1048574              NaN  ...           NaN          NaN           NaN   \n",
      "\n",
      "         Unnamed: 124  Unnamed: 125  Unnamed: 126  Unnamed: 127  Unnamed: 128  \\\n",
      "0                 NaN           NaN           NaN           NaN           NaN   \n",
      "1                 NaN           NaN           NaN           NaN           NaN   \n",
      "2               73.00         74.00         75.00          76.0          77.0   \n",
      "3               95.67        100.05         97.18           NaN           NaN   \n",
      "4               61.12         63.10         60.63           NaN           NaN   \n",
      "...               ...           ...           ...           ...           ...   \n",
      "1048570           NaN           NaN           NaN           NaN           NaN   \n",
      "1048571           NaN           NaN           NaN           NaN           NaN   \n",
      "1048572           NaN           NaN           NaN           NaN           NaN   \n",
      "1048573           NaN           NaN           NaN           NaN           NaN   \n",
      "1048574           NaN           NaN           NaN           NaN           NaN   \n",
      "\n",
      "         Unnamed: 129 Unnamed: 130  \n",
      "0                 NaN          NaN  \n",
      "1                 NaN          NaN  \n",
      "2                79.0  Grand Total  \n",
      "3                 NaN      6348.12  \n",
      "4                 NaN      3355.43  \n",
      "...               ...          ...  \n",
      "1048570           NaN          NaN  \n",
      "1048571           NaN          NaN  \n",
      "1048572           NaN          NaN  \n",
      "1048573           NaN          NaN  \n",
      "1048574           NaN          NaN  \n",
      "\n",
      "[1048575 rows x 131 columns]\n"
     ]
    }
   ],
   "source": [
    "df = pd.read_csv (r'/Users/chris/Downloads/Spreadsheets_Exercises (1).csv')\n",
    "print (df)"
   ]
  },
  {
   "cell_type": "code",
   "execution_count": null,
   "id": "c6f6b593",
   "metadata": {},
   "outputs": [],
   "source": []
  }
 ],
 "metadata": {
  "kernelspec": {
   "display_name": "Python 3",
   "language": "python",
   "name": "python3"
  },
  "language_info": {
   "codemirror_mode": {
    "name": "ipython",
    "version": 3
   },
   "file_extension": ".py",
   "mimetype": "text/x-python",
   "name": "python",
   "nbconvert_exporter": "python",
   "pygments_lexer": "ipython3",
   "version": "3.8.8"
  }
 },
 "nbformat": 4,
 "nbformat_minor": 5
}
