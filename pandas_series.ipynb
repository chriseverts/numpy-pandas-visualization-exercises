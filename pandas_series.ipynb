{
 "cells": [
  {
   "cell_type": "code",
   "execution_count": 6,
   "id": "1b72305c",
   "metadata": {},
   "outputs": [],
   "source": [
    "import numpy as np\n",
    "import pandas as pd\n",
    "\n",
    "import matplotlib.pyplot as plt"
   ]
  },
  {
   "cell_type": "code",
   "execution_count": 7,
   "id": "65d005d8",
   "metadata": {},
   "outputs": [
    {
     "data": {
      "text/plain": [
       "17"
      ]
     },
     "execution_count": 7,
     "metadata": {},
     "output_type": "execute_result"
    }
   ],
   "source": [
    "##1Determine the number of elements in fruits.\n",
    "\n",
    "\n",
    "fruit_series = pd.Series([\"kiwi\", \"mango\", \"strawberry\", \"pineapple\", \"gala apple\", \"honeycrisp apple\", \"tomato\", \"watermelon\", \"honeydew\", \"kiwi\", \"kiwi\", \"kiwi\", \"mango\", \"blueberry\", \"blackberry\", \"gooseberry\", \"papaya\"])\n",
    "type(fruit_series)\n",
    "\n",
    "fruit_series.size\n",
    "\n"
   ]
  },
  {
   "cell_type": "code",
   "execution_count": null,
   "id": "0a288f69",
   "metadata": {},
   "outputs": [],
   "source": [
    "##Output only the index from fruits.\n",
    "\n",
    "fruit_series.index\n",
    "\n",
    "\n"
   ]
  },
  {
   "cell_type": "code",
   "execution_count": null,
   "id": "72cdbf96",
   "metadata": {},
   "outputs": [],
   "source": [
    "##Output only the values from fruits.\n",
    "\n",
    "fruit_series.values\n",
    "\n"
   ]
  },
  {
   "cell_type": "code",
   "execution_count": null,
   "id": "5f3abe86",
   "metadata": {},
   "outputs": [],
   "source": [
    "##Confirm the data type of the values in fruits.\n",
    "\n",
    "fruit_series.dtype\n",
    "\n"
   ]
  },
  {
   "cell_type": "code",
   "execution_count": null,
   "id": "002e62ae",
   "metadata": {},
   "outputs": [],
   "source": [
    "##Output only the first five values from fruits. Output the last three values. Output two random values from fruits.\n",
    "\n",
    "fruit_series.head(5)\n",
    "fruit_series.tail(3)\n",
    "fruit_series.sample(2)"
   ]
  },
  {
   "cell_type": "code",
   "execution_count": null,
   "id": "5dea8684",
   "metadata": {},
   "outputs": [],
   "source": [
    "##Run the .describe() on fruits to see what information it returns when called on a Series with string values.\n",
    "\n",
    "fruit_series.describe()\n"
   ]
  },
  {
   "cell_type": "code",
   "execution_count": null,
   "id": "cd1ae3f1",
   "metadata": {},
   "outputs": [],
   "source": [
    "## Run the code necessary to produce only the unique string values from fruits.\n",
    "\n",
    "fruit_series = pd.Series([\"kiwi\", \"mango\", \"strawberry\", \"pineapple\", \"gala apple\", \"honeycrisp apple\", \"tomato\", \"watermelon\", \"honeydew\", \"kiwi\", \"kiwi\", \"kiwi\", \"mango\", \"blueberry\", \"blackberry\", \"gooseberry\", \"papaya\"]).astype('str')\n",
    "\n",
    "fruit_series.nunique()\n"
   ]
  },
  {
   "cell_type": "code",
   "execution_count": null,
   "id": "952d7321",
   "metadata": {},
   "outputs": [],
   "source": [
    "##Determine how many times each unique string value occurs in fruits.\n",
    "\n",
    "fruit_series.value_counts()\n",
    "\n"
   ]
  },
  {
   "cell_type": "code",
   "execution_count": null,
   "id": "527c37b9",
   "metadata": {},
   "outputs": [],
   "source": [
    "##Determine the string value that occurs most frequently in fruits.\n",
    "\n",
    "fruit_series = pd.Series([\"kiwi\", \"mango\", \"strawberry\", \"pineapple\", \"gala apple\", \"honeycrisp apple\", \"tomato\", \"watermelon\", \"honeydew\", \"kiwi\", \"kiwi\", \"kiwi\", \"mango\", \"blueberry\", \"blackberry\", \"gooseberry\", \"papaya\"]).astype('str')\n",
    "\n",
    "fruit_series.value_counts().idxmax()\n"
   ]
  },
  {
   "cell_type": "code",
   "execution_count": null,
   "id": "06e7897e",
   "metadata": {},
   "outputs": [],
   "source": [
    "##Determine the string value that occurs least frequently in fruits.\n",
    "\n",
    "\n",
    "\n",
    "fruit_series.value_counts(ascending = True)\n"
   ]
  },
  {
   "cell_type": "code",
   "execution_count": null,
   "id": "b33d2141",
   "metadata": {},
   "outputs": [],
   "source": [
    "\n",
    "#Exercises Part II\n",
    "\n",
    "\n",
    "##1Capitalize all the string values in fruits.\n",
    "\n",
    "\n",
    "fruit_series.str.upper()\n",
    "\n"
   ]
  },
  {
   "cell_type": "code",
   "execution_count": null,
   "id": "e9d056a0",
   "metadata": {},
   "outputs": [],
   "source": [
    "##2.Count the letter \"a\" in all the string values (use string vectorization).\n",
    "fruit_series = pd.Series([\"kiwi\", \"mango\", \"strawberry\", \"pineapple\", \"gala apple\", \"honeycrisp apple\", \"tomato\", \"watermelon\", \"honeydew\", \"kiwi\", \"kiwi\", \"kiwi\", \"mango\", \"blueberry\", \"blackberry\", \"gooseberry\", \"papaya\"]).astype('str')\n",
    "\n",
    "fruit_series.apply(lambda row: row.count('a'))\n"
   ]
  },
  {
   "cell_type": "code",
   "execution_count": null,
   "id": "4fd0c96b",
   "metadata": {},
   "outputs": [],
   "source": [
    "##3.Output the number of vowels in each and every string value\n",
    "fruit_series = pd.Series([\"kiwi\", \"mango\", \"strawberry\", \"pineapple\", \"gala apple\", \"honeycrisp apple\", \"tomato\", \"watermelon\", \"honeydew\", \"kiwi\", \"kiwi\", \"kiwi\", \"mango\", \"blueberry\", \"blackberry\", \"gooseberry\", \"papaya\"]).astype('str')\n",
    "\n",
    "fruit_series"
   ]
  },
  {
   "cell_type": "code",
   "execution_count": null,
   "id": "e5642ab6",
   "metadata": {},
   "outputs": [],
   "source": [
    "##4.Write the code to get the longest string value from fruits.\n",
    "fruit_series = pd.Series([\"kiwi\", \"mango\", \"strawberry\", \"pineapple\", \"gala apple\", \"honeycrisp apple\", \"tomato\", \"watermelon\", \"honeydew\", \"kiwi\", \"kiwi\", \"kiwi\", \"mango\", \"blueberry\", \"blackberry\", \"gooseberry\", \"papaya\"]).astype('str')\n",
    "\n",
    "\n",
    "fruit_series.apply(len).value_counts()\n"
   ]
  },
  {
   "cell_type": "code",
   "execution_count": null,
   "id": "17b719bf",
   "metadata": {},
   "outputs": [],
   "source": [
    "##5.Write the code to get the string values with 5 or more letters in the name.\n",
    "\n",
    "fruit_series[fruit_series.str.len() > 4]\n"
   ]
  },
  {
   "cell_type": "code",
   "execution_count": null,
   "id": "943412ba",
   "metadata": {},
   "outputs": [],
   "source": [
    "##6 Use the .apply method with a lambda function to find the fruit(s) containing the letter \"o\" two or more times.\n",
    "\n",
    "\n",
    "fruit_series = pd.Series([\"kiwi\", \"mango\", \"strawberry\", \"pineapple\", \"gala apple\", \"honeycrisp apple\", \"tomato\", \"watermelon\", \"honeydew\", \"kiwi\", \"kiwi\", \"kiwi\", \"mango\", \"blueberry\", \"blackberry\", \"gooseberry\", \"papaya\"]).astype('str')\n",
    "\n",
    "fruit_series.apply(lambda row: row.count('o'))\n",
    "\n",
    "\n",
    "\n",
    "\n",
    "\n"
   ]
  },
  {
   "cell_type": "code",
   "execution_count": null,
   "id": "cae2788b",
   "metadata": {},
   "outputs": [],
   "source": [
    "##7.Write the code to get only the string values containing the substring \"berry\".\n",
    "fruit_series = pd.Series([\"kiwi\", \"mango\", \"strawberry\", \"pineapple\", \"gala apple\", \"honeycrisp apple\", \"tomato\", \"watermelon\", \"honeydew\", \"kiwi\", \"kiwi\", \"kiwi\", \"mango\", \"blueberry\", \"blackberry\", \"gooseberry\", \"papaya\"]).astype(str)\n",
    "\n",
    "fruit_series[fruit_series.str.contains(\"berry\")]## used method chaining to find the string that contains 'berry'\n",
    "\n",
    "\n",
    "\n"
   ]
  },
  {
   "cell_type": "code",
   "execution_count": null,
   "id": "335f192f",
   "metadata": {},
   "outputs": [],
   "source": [
    "#8.Write the code to get only the string values containing the substring \"apple\".\n",
    "\n",
    "fruit_series = pd.Series([\"kiwi\", \"mango\", \"strawberry\", \"pineapple\", \"gala apple\", \"honeycrisp apple\", \"tomato\", \"watermelon\", \"honeydew\", \"kiwi\", \"kiwi\", \"kiwi\", \"mango\", \"blueberry\", \"blackberry\", \"gooseberry\", \"papaya\"]).astype(str)\n",
    "\n",
    "fruit_series[fruit_series.str.contains(\"apple\")]\n",
    "\n",
    "\n"
   ]
  },
  {
   "cell_type": "code",
   "execution_count": null,
   "id": "4805505d",
   "metadata": {},
   "outputs": [],
   "source": [
    "#9 Which string value contains the most vowels?\n",
    "\n",
    "fruit_series.str.count('aeiou')\n",
    "\n",
    "\n"
   ]
  },
  {
   "cell_type": "code",
   "execution_count": 1,
   "id": "90c011ee",
   "metadata": {},
   "outputs": [
    {
     "data": {
      "text/plain": [
       "'h n v i d d u c k k q x w y m b i m k c c e x b k m q y g k x o y n d m c x n w q a r h y f f s j p s r a b t j z s y p m z a d f a v y r n n d n d v s w r e a u x o v n c x t w z p w e j i l z j r m m b b g b y x v j t e w q t h a f n b k q p l a r o k k y y d t u b b m n e x o y p u l z w f h q v c k d p q t p o p p z q r m c v h h p w g j w u p g z h i o f o h a w y t l s i y e c u p r o g u y'"
      ]
     },
     "execution_count": 1,
     "metadata": {},
     "output_type": "execute_result"
    }
   ],
   "source": [
    "##Exercises Part III\n",
    "##Use pandas to create a Series named letters from the following string:\n",
    "\n",
    "\n",
    "  ##  'hnvidduckkqxwymbimkccexbkmqygkxoyndmcxnwqarhyffsjpsrabtjzsypmzadfavyrnndndvswreauxovncxtwzpwejilzjrmmbbgbyxvjtewqthafnbkqplarokkyydtubbmnexoypulzwfhqvckdpqtpoppzqrmcvhhpwgjwupgzhiofohawytlsiyecuproguy'\n",
    "##Which letter occurs the most frequently in the letters Series?\n",
    "\n",
    "string = \"hnvidduckkqxwymbimkccexbkmqygkxoyndmcxnwqarhyffsjpsrabtjzsypmzadfavyrnndndvswreauxovncxtwzpwejilzjrmmbbgbyxvjtewqthafnbkqplarokkyydtubbmnexoypulzwfhqvckdpqtpoppzqrmcvhhpwgjwupgzhiofohawytlsiyecuproguy\"\n",
    "type(string)\n",
    "                 \n",
    "' '.join(string)\n",
    "\n"
   ]
  },
  {
   "cell_type": "code",
   "execution_count": 3,
   "id": "4efaff79",
   "metadata": {},
   "outputs": [
    {
     "data": {
      "text/plain": [
       "str"
      ]
     },
     "execution_count": 3,
     "metadata": {},
     "output_type": "execute_result"
    }
   ],
   "source": [
    "type(string)"
   ]
  },
  {
   "cell_type": "code",
   "execution_count": 4,
   "id": "6d81cd47",
   "metadata": {},
   "outputs": [
    {
     "data": {
      "text/plain": [
       "['h', 'n', 'v', 'i', 'd', 'd', 'u', 'c', 'k', 'k']"
      ]
     },
     "execution_count": 4,
     "metadata": {},
     "output_type": "execute_result"
    }
   ],
   "source": [
    "letters_list = ' '.join(string).split(' ')\n",
    "letters_list[:10]"
   ]
  },
  {
   "cell_type": "code",
   "execution_count": 9,
   "id": "123d067f",
   "metadata": {},
   "outputs": [
    {
     "data": {
      "text/plain": [
       "0    h\n",
       "1    n\n",
       "2    v\n",
       "3    i\n",
       "4    d\n",
       "dtype: object"
      ]
     },
     "execution_count": 9,
     "metadata": {},
     "output_type": "execute_result"
    }
   ],
   "source": [
    "letters = pd.Series(letters_list)\n",
    "letters.head()"
   ]
  },
  {
   "cell_type": "code",
   "execution_count": 10,
   "id": "67014c37",
   "metadata": {},
   "outputs": [
    {
     "data": {
      "text/plain": [
       "y    13\n",
       "p    12\n",
       "w    10\n",
       "m     9\n",
       "b     9\n",
       "n     9\n",
       "k     9\n",
       "x     8\n",
       "h     8\n",
       "a     8\n",
       "q     8\n",
       "c     8\n",
       "r     8\n",
       "d     8\n",
       "o     8\n",
       "z     7\n",
       "u     7\n",
       "t     7\n",
       "v     7\n",
       "j     6\n",
       "e     6\n",
       "f     6\n",
       "i     5\n",
       "s     5\n",
       "g     5\n",
       "l     4\n",
       "dtype: int64"
      ]
     },
     "execution_count": 10,
     "metadata": {},
     "output_type": "execute_result"
    }
   ],
   "source": [
    "letters.value_counts().sort_values(ascending=False)"
   ]
  },
  {
   "cell_type": "code",
   "execution_count": 11,
   "id": "86c3a9f2",
   "metadata": {},
   "outputs": [
    {
     "data": {
      "text/plain": [
       "<bound method Series.sort_values of y    13\n",
       "p    12\n",
       "w    10\n",
       "m     9\n",
       "b     9\n",
       "n     9\n",
       "k     9\n",
       "o     8\n",
       "d     8\n",
       "r     8\n",
       "c     8\n",
       "x     8\n",
       "a     8\n",
       "q     8\n",
       "h     8\n",
       "z     7\n",
       "u     7\n",
       "t     7\n",
       "v     7\n",
       "j     6\n",
       "e     6\n",
       "f     6\n",
       "i     5\n",
       "s     5\n",
       "g     5\n",
       "l     4\n",
       "dtype: int64>"
      ]
     },
     "execution_count": 11,
     "metadata": {},
     "output_type": "execute_result"
    }
   ],
   "source": [
    "##Which letter occurs the Least frequently?\n",
    "\n",
    "letters.value_counts().sort_values\n",
    "\n",
    "\n"
   ]
  },
  {
   "cell_type": "code",
   "execution_count": 12,
   "id": "9b986eab",
   "metadata": {},
   "outputs": [
    {
     "data": {
      "text/plain": [
       "0      0\n",
       "1      0\n",
       "2      0\n",
       "3      1\n",
       "4      0\n",
       "      ..\n",
       "195    0\n",
       "196    1\n",
       "197    0\n",
       "198    1\n",
       "199    0\n",
       "Length: 200, dtype: int64"
      ]
     },
     "execution_count": 12,
     "metadata": {},
     "output_type": "execute_result"
    }
   ],
   "source": [
    "##3.How many vowels are in the Series?\n",
    "\n",
    "letters.str.lower().str.count('[aeiou]')\n"
   ]
  },
  {
   "cell_type": "code",
   "execution_count": 13,
   "id": "a6099097",
   "metadata": {},
   "outputs": [
    {
     "name": "stdout",
     "output_type": "stream",
     "text": [
      "     vowels  consonants\n",
      "0         0           1\n",
      "1         0           1\n",
      "2         0           1\n",
      "3         1           0\n",
      "4         0           1\n",
      "..      ...         ...\n",
      "195       0           1\n",
      "196       1           0\n",
      "197       0           1\n",
      "198       1           0\n",
      "199       0           1\n",
      "\n",
      "[200 rows x 2 columns]\n"
     ]
    }
   ],
   "source": [
    "##4How many consonants are in the Series?\n",
    "\n",
    "\n",
    "letters.str.lower().str.count('[aeiou]')\n",
    "\n",
    "counts = (\n",
    "    letters.str.extractall('(?i)(?P<vowels>[aeiou])|(?P<consonants>[a-z])')\n",
    "    .groupby(level=0).count())\n",
    "    \n",
    "print(counts)    \n",
    "    "
   ]
  },
  {
   "cell_type": "code",
   "execution_count": 14,
   "id": "1dcc265b",
   "metadata": {},
   "outputs": [
    {
     "data": {
      "text/plain": [
       "0      H\n",
       "1      N\n",
       "2      V\n",
       "3      I\n",
       "4      D\n",
       "      ..\n",
       "195    R\n",
       "196    O\n",
       "197    G\n",
       "198    U\n",
       "199    Y\n",
       "Length: 200, dtype: object"
      ]
     },
     "execution_count": 14,
     "metadata": {},
     "output_type": "execute_result"
    }
   ],
   "source": [
    "##5Create a Series that has all of the same letters but uppercased.\n",
    "\n",
    "letters.str.upper()\n",
    "\n"
   ]
  },
  {
   "cell_type": "code",
   "execution_count": 38,
   "id": "2f0ae1a7",
   "metadata": {},
   "outputs": [
    {
     "name": "stdout",
     "output_type": "stream",
     "text": [
      "[('y', 13), ('p', 12), ('w', 10), ('n', 9), ('k', 9), ('m', 9)]\n"
     ]
    },
    {
     "ename": "AttributeError",
     "evalue": "'list' object has no attribute 'plot'",
     "output_type": "error",
     "traceback": [
      "\u001b[0;31m---------------------------------------------------------------------------\u001b[0m",
      "\u001b[0;31mAttributeError\u001b[0m                            Traceback (most recent call last)",
      "\u001b[0;32m<ipython-input-38-5fd58a9bc7d0>\u001b[0m in \u001b[0;36m<module>\u001b[0;34m\u001b[0m\n\u001b[1;32m     14\u001b[0m \u001b[0;34m\u001b[0m\u001b[0m\n\u001b[1;32m     15\u001b[0m \u001b[0;34m\u001b[0m\u001b[0m\n\u001b[0;32m---> 16\u001b[0;31m \u001b[0mletter_count\u001b[0m\u001b[0;34m.\u001b[0m\u001b[0mplot\u001b[0m\u001b[0;34m.\u001b[0m\u001b[0mbar\u001b[0m\u001b[0;34m(\u001b[0m\u001b[0mrot\u001b[0m\u001b[0;34m=\u001b[0m\u001b[0;36m0\u001b[0m\u001b[0;34m)\u001b[0m\u001b[0;34m\u001b[0m\u001b[0;34m\u001b[0m\u001b[0m\n\u001b[0m\u001b[1;32m     17\u001b[0m \u001b[0;34m\u001b[0m\u001b[0m\n\u001b[1;32m     18\u001b[0m \u001b[0mplt\u001b[0m\u001b[0;34m.\u001b[0m\u001b[0mshow\u001b[0m\u001b[0;34m(\u001b[0m\u001b[0;34m)\u001b[0m\u001b[0;34m\u001b[0m\u001b[0;34m\u001b[0m\u001b[0m\n",
      "\u001b[0;31mAttributeError\u001b[0m: 'list' object has no attribute 'plot'"
     ]
    }
   ],
   "source": [
    "##6Create a bar plot of the frequencies of the 6 most commonly occuring letters.\n",
    "\n",
    "\n",
    "\n",
    "\n",
    "\n",
    "\n",
    "from collections import Counter\n",
    "letters_to_count = (word for word in letters if word[:1].isupper())\n",
    "c = Counter(letters)\n",
    "letter_count = c.most_common(6)\n",
    "print(letter_count)\n",
    "\n",
    "\n",
    "\n",
    "letter_count.plot.bar(rot=0)\n",
    "\n",
    "plt.show()\n"
   ]
  },
  {
   "cell_type": "code",
   "execution_count": null,
   "id": "13d0efb8",
   "metadata": {},
   "outputs": [],
   "source": []
  }
 ],
 "metadata": {
  "kernelspec": {
   "display_name": "Python 3",
   "language": "python",
   "name": "python3"
  },
  "language_info": {
   "codemirror_mode": {
    "name": "ipython",
    "version": 3
   },
   "file_extension": ".py",
   "mimetype": "text/x-python",
   "name": "python",
   "nbconvert_exporter": "python",
   "pygments_lexer": "ipython3",
   "version": "3.8.8"
  }
 },
 "nbformat": 4,
 "nbformat_minor": 5
}
