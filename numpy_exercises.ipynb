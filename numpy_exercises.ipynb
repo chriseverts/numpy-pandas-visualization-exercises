{
 "cells": [
  {
   "cell_type": "code",
   "execution_count": 236,
   "id": "827ef250",
   "metadata": {},
   "outputs": [
    {
     "data": {
      "text/plain": [
       "array([ 4, 10, 12, 23, -2, -1,  0,  0,  0, -6,  3, -7])"
      ]
     },
     "execution_count": 236,
     "metadata": {},
     "output_type": "execute_result"
    }
   ],
   "source": [
    "import numpy as np\n",
    "\n",
    "x = np.array([4, 10, 12, 23, -2, -1, 0, 0, 0, -6, 3, -7])\n",
    "\n",
    "x\n",
    "\n"
   ]
  },
  {
   "cell_type": "code",
   "execution_count": 237,
   "id": "844ea1a8",
   "metadata": {},
   "outputs": [
    {
     "data": {
      "text/plain": [
       "array([-2, -1, -6, -7])"
      ]
     },
     "execution_count": 237,
     "metadata": {},
     "output_type": "execute_result"
    }
   ],
   "source": [
    "##1. How many negative numbers are there?\n",
    "\n",
    "x = np.array([4, 10, 12, 23, -2, -1, 0, 0, 0, -6, 3, -7])\n",
    "\n",
    "import numpy as np\n",
    "\n",
    "mask = x<0\n",
    "\n",
    "neg_num = x[mask]\n",
    "\n",
    "neg_num"
   ]
  },
  {
   "cell_type": "code",
   "execution_count": 241,
   "id": "ae7313f1",
   "metadata": {},
   "outputs": [
    {
     "name": "stdout",
     "output_type": "stream",
     "text": [
      "5\n"
     ]
    }
   ],
   "source": [
    "##2.How many positive numbers are there?\n",
    "\n",
    "pos_num = (x > 0).sum()\n",
    "\n",
    "print(pos_num)\n",
    "\n"
   ]
  },
  {
   "cell_type": "code",
   "execution_count": 242,
   "id": "d3a38fab",
   "metadata": {},
   "outputs": [
    {
     "name": "stdout",
     "output_type": "stream",
     "text": [
      "3\n"
     ]
    }
   ],
   "source": [
    "##3. How many even positive numbers are there?\n",
    "\n",
    "x = np.array([4, 10, 12, 23, -2, -1, 0, 0, 0, -6, 3, -7])\n",
    "\n",
    "even_num = (x[x % 2 == 0])\n",
    "\n",
    "positive_even_num = even_num[even_num > 0].size\n",
    "\n",
    "\n",
    "\n",
    "print(positive_even_num)\n"
   ]
  },
  {
   "cell_type": "code",
   "execution_count": 247,
   "id": "c5703588",
   "metadata": {},
   "outputs": [
    {
     "name": "stdout",
     "output_type": "stream",
     "text": [
      "[ 7 13 15 26  1  2  3  3  3  6]\n"
     ]
    }
   ],
   "source": [
    "##4.If you were to add 3 to each data point, how many positive numbers would there be?\n",
    "\n",
    "x = np.array([4, 10, 12, 23, -2, -1, 0, 0, 0, -6, 3, -7])\n",
    "\n",
    "add_num = (x + 3)\n",
    "\n",
    "pos_num = add_num[add_num > 0]\n",
    "\n",
    "print(pos_num)\n",
    "\n",
    "\n",
    "\n",
    "\n"
   ]
  },
  {
   "cell_type": "code",
   "execution_count": 250,
   "id": "c1c96850",
   "metadata": {},
   "outputs": [
    {
     "name": "stdout",
     "output_type": "stream",
     "text": [
      "The square is  74.0\n",
      "The mean is  3.0\n",
      "The standard deviation is  32.41990129534635\n"
     ]
    }
   ],
   "source": [
    "##5. If you squared each number, what would the new mean and standard deviation be?\n",
    "\n",
    "\n",
    "\n",
    "square_num = (x**2).mean()\n",
    "mean_num = np.mean(x)\n",
    "std_num = (a ** 2).std()\n",
    "\n",
    "\n",
    "\n",
    "print('The square is ',square_num)\n",
    "print('The mean is ',mean_num)\n",
    "print('The standard deviation is ',std_num)\n",
    "\n"
   ]
  },
  {
   "cell_type": "code",
   "execution_count": 77,
   "id": "52a40a67",
   "metadata": {},
   "outputs": [
    {
     "name": "stdout",
     "output_type": "stream",
     "text": [
      "[  1.   7.   9.  20.  -5.  -4.  -3.  -3.  -3.  -9.   0. -10.]\n"
     ]
    }
   ],
   "source": [
    "##6. A common statistical operation on a dataset is centering. \n",
    "#This means to adjust the data such that the mean of the data is 0.\n",
    "#This is done by subtracting the mean from each data point. Center the data set. See this link for more on centering.\n",
    "\n",
    "x = np.array([4, 10, 12, 23, -2, -1, 0, 0, 0, -6, 3, -7])\n",
    "\n",
    "mean_num = np.mean(x)\n",
    "\n",
    "\n",
    "center = x - mean_num\n",
    "\n",
    "print(center)\n"
   ]
  },
  {
   "cell_type": "code",
   "execution_count": 80,
   "id": "c4c70bb7",
   "metadata": {},
   "outputs": [
    {
     "data": {
      "text/plain": [
       "array([ 0.12403473,  0.86824314,  1.11631261,  2.48069469, -0.62017367,\n",
       "       -0.49613894, -0.3721042 , -0.3721042 , -0.3721042 , -1.11631261,\n",
       "        0.        , -1.24034735])"
      ]
     },
     "execution_count": 80,
     "metadata": {},
     "output_type": "execute_result"
    }
   ],
   "source": [
    "## 7. Calculate the z-score for each data point.\n",
    "\n",
    "x = np.array([4, 10, 12, 23, -2, -1, 0, 0, 0, -6, 3, -7])\n",
    "\n",
    "import pandas as pd\n",
    "import numpy as np\n",
    "import scipy.stats as stats\n",
    "\n",
    "stats.zscore(x)\n",
    "\n",
    "\n"
   ]
  },
  {
   "cell_type": "code",
   "execution_count": 81,
   "id": "63f7e3ca",
   "metadata": {},
   "outputs": [],
   "source": [
    "import numpy as np\n",
    "# Life w/o numpy to life with numpy\n",
    "\n",
    "## Setup 1\n",
    "a = [1, 2, 3, 4, 5, 6, 7, 8, 9, 10]\n",
    "\n"
   ]
  },
  {
   "cell_type": "code",
   "execution_count": 84,
   "id": "c2e6e28c",
   "metadata": {},
   "outputs": [
    {
     "name": "stdout",
     "output_type": "stream",
     "text": [
      "55\n"
     ]
    }
   ],
   "source": [
    "# Exercise 1 - Make a variable called sum_of_a to hold the sum of all the numbers in above list\n",
    "\n",
    "\n",
    "sum_of_a = np.sum(np.array(a))\n",
    "\n",
    "print(sum_of_a)"
   ]
  },
  {
   "cell_type": "code",
   "execution_count": 92,
   "id": "16d2efe0",
   "metadata": {},
   "outputs": [
    {
     "name": "stdout",
     "output_type": "stream",
     "text": [
      "1\n"
     ]
    }
   ],
   "source": [
    "# Exercise 2 - Make a variable named min_of_a to hold the minimum of all the numbers in the above list\n",
    "\n",
    "\n",
    "min_of_a = np.min(a)\n",
    "\n",
    "print(min_of_a)\n",
    "\n"
   ]
  },
  {
   "cell_type": "code",
   "execution_count": 91,
   "id": "33d68dc6",
   "metadata": {},
   "outputs": [
    {
     "name": "stdout",
     "output_type": "stream",
     "text": [
      "10\n"
     ]
    }
   ],
   "source": [
    "# Exercise 3 - Make a variable named max_of_a to hold the max number of all the numbers in the above list\n",
    "\n",
    "\n",
    "max_of_a = np.max(a)\n",
    "\n",
    "print(max_of_a)\n",
    "\n",
    "\n"
   ]
  },
  {
   "cell_type": "code",
   "execution_count": 90,
   "id": "b4d7b8da",
   "metadata": {},
   "outputs": [
    {
     "name": "stdout",
     "output_type": "stream",
     "text": [
      "5.5\n"
     ]
    }
   ],
   "source": [
    "# Exercise 4 - Make a variable named mean_of_a to hold the average of all the numbers in the above list\n",
    "\n",
    "\n",
    "mean_of_a = np.mean(a)\n",
    "\n",
    "print(mean_of_a)\n",
    "\n"
   ]
  },
  {
   "cell_type": "code",
   "execution_count": 94,
   "id": "f6e65d05",
   "metadata": {},
   "outputs": [
    {
     "name": "stdout",
     "output_type": "stream",
     "text": [
      "3628800\n"
     ]
    }
   ],
   "source": [
    "# Exercise 5 - Make a variable named product_of_a to hold the product of multiplying all the numbers in the above list together\n",
    "\n",
    "product_of_a = np.prod(a)\n",
    "\n",
    "print(product_of_a)\n"
   ]
  },
  {
   "cell_type": "code",
   "execution_count": 95,
   "id": "7cdc69a9",
   "metadata": {},
   "outputs": [
    {
     "name": "stdout",
     "output_type": "stream",
     "text": [
      "[  1   4   9  16  25  36  49  64  81 100]\n"
     ]
    }
   ],
   "source": [
    "# Exercise 6 - Make a variable named squares_of_a.\n",
    "\n",
    "squares_of_a = np.square(a)\n",
    "\n",
    "print(squares_of_a)\n",
    "\n",
    "\n"
   ]
  },
  {
   "cell_type": "code",
   "execution_count": 110,
   "id": "1d6aa9d4",
   "metadata": {},
   "outputs": [
    {
     "name": "stdout",
     "output_type": "stream",
     "text": [
      "[1 3 5 7 9]\n"
     ]
    }
   ],
   "source": [
    "# Exercise 7 - Make a variable named odds_in_a. It should hold only the odd numbers\n",
    "\n",
    "a = np.array([1, 2, 3, 4, 5, 6, 7, 8, 9, 10])\n",
    "\n",
    "odds_in_a = (a[a % 2 != 0])\n",
    "\n",
    "\n",
    "\n",
    "print(odds_in_a)\n",
    "\n",
    "\n"
   ]
  },
  {
   "cell_type": "code",
   "execution_count": 111,
   "id": "06d30d67",
   "metadata": {},
   "outputs": [
    {
     "name": "stdout",
     "output_type": "stream",
     "text": [
      "[ 2  4  6  8 10]\n"
     ]
    }
   ],
   "source": [
    "# Exercise 8 - Make a variable named evens_in_a. It should hold only the evens.\n",
    "\n",
    "\n",
    "evens_in_a = (a[a % 2 == 0])\n",
    "\n",
    "\n",
    "\n",
    "print(evens_in_a)\n",
    "\n",
    "\n",
    "\n"
   ]
  },
  {
   "cell_type": "code",
   "execution_count": 121,
   "id": "9b1749ed",
   "metadata": {},
   "outputs": [
    {
     "name": "stdout",
     "output_type": "stream",
     "text": [
      "33\n",
      "3\n",
      "8\n",
      "5.5\n",
      "20160\n",
      "[[ 9 16 25]\n",
      " [36 49 64]]\n"
     ]
    }
   ],
   "source": [
    "## Setup 2: Consider what it would take to find the sum, min, max, average, sum, product, and list of squares for this list of two lists.\n",
    "\n",
    "import numpy as np\n",
    "\n",
    "\n",
    "b =np.array([\n",
    "    [3, 4, 5],\n",
    "    [6, 7, 8]])\n",
    "\n",
    "sum_num = np.sum(b)\n",
    "min_num = np.min(b)\n",
    "max_num = np.max(b)\n",
    "mean_num = np.mean(b)\n",
    "product_num = np.prod(b)\n",
    "square_num = np.square(b)\n",
    "\n",
    "print(sum_num)\n",
    "print(min_num)\n",
    "print(max_num)\n",
    "print(mean_num)\n",
    "print(product_num)\n",
    "print(square_num)\n",
    "\n"
   ]
  },
  {
   "cell_type": "code",
   "execution_count": 122,
   "id": "992e7b31",
   "metadata": {},
   "outputs": [
    {
     "name": "stdout",
     "output_type": "stream",
     "text": [
      "33\n"
     ]
    }
   ],
   "source": [
    "# Exercise 1 - refactor the following to use numpy. Use sum_of_b as the variable.\n",
    "##**Hint, you'll first need to make sure that the \"b\" variable is a numpy array**\n",
    "\n",
    "\n",
    "b =np.array([\n",
    "    [3, 4, 5],\n",
    "    [6, 7, 8]])\n",
    "\n",
    "\n",
    "\n",
    "sum_of_b = 0\n",
    "for row in b:\n",
    "    sum_of_b += sum(row)\n",
    "    \n",
    "print(sum_of_b)    \n",
    "    \n",
    "    \n",
    "    \n",
    "    \n",
    "    \n",
    "    \n",
    "    "
   ]
  },
  {
   "cell_type": "code",
   "execution_count": 133,
   "id": "986dd0d7",
   "metadata": {},
   "outputs": [
    {
     "name": "stdout",
     "output_type": "stream",
     "text": [
      "3\n"
     ]
    }
   ],
   "source": [
    "# Exercise 2 - refactor the following to use numpy. \n",
    "\n",
    "min_of_b = min(b[0]) if min(b[0]) <= min(b[1]) else min(b[1])  \n",
    "\n",
    "\n",
    "print(min_of_b)"
   ]
  },
  {
   "cell_type": "code",
   "execution_count": 134,
   "id": "2ebaae52",
   "metadata": {},
   "outputs": [
    {
     "name": "stdout",
     "output_type": "stream",
     "text": [
      "8\n"
     ]
    }
   ],
   "source": [
    "# Exercise 3 - refactor the following maximum calculation to find the answer with numpy.\n",
    "\n",
    "max_of_b = max(b[0]) if max(b[0]) >= max(b[1]) else max(b[1])\n",
    "\n",
    "\n",
    "print(max_of_b)\n",
    "\n"
   ]
  },
  {
   "cell_type": "code",
   "execution_count": 135,
   "id": "74a2a974",
   "metadata": {},
   "outputs": [
    {
     "name": "stdout",
     "output_type": "stream",
     "text": [
      "5.5\n"
     ]
    }
   ],
   "source": [
    "# Exercise 4 - refactor the following using numpy to find the mean of b\n",
    "mean_of_b = (sum(b[0]) + sum(b[1])) / (len(b[0]) + len(b[1]))\n",
    "\n",
    "print(mean_of_b)"
   ]
  },
  {
   "cell_type": "code",
   "execution_count": 136,
   "id": "fbb1a166",
   "metadata": {},
   "outputs": [
    {
     "name": "stdout",
     "output_type": "stream",
     "text": [
      "20160\n"
     ]
    }
   ],
   "source": [
    "# Exercise 5 - refactor the following to use numpy for calculating the product of all numbers multiplied together.\n",
    "product_of_b = 1\n",
    "for row in b:\n",
    "    for number in row:\n",
    "        product_of_b *= number\n",
    "        \n",
    "        \n",
    "        \n",
    "print(product_of_b)        "
   ]
  },
  {
   "cell_type": "code",
   "execution_count": 137,
   "id": "e13d3da8",
   "metadata": {},
   "outputs": [
    {
     "name": "stdout",
     "output_type": "stream",
     "text": [
      "[9, 16, 25, 36, 49, 64]\n"
     ]
    }
   ],
   "source": [
    "# Exercise 6 - refactor the following to use numpy to find the list of squares \n",
    "squares_of_b = []\n",
    "for row in b:\n",
    "    for number in row:\n",
    "        squares_of_b.append(number**2)\n",
    "\n",
    "print(squares_of_b)"
   ]
  },
  {
   "cell_type": "code",
   "execution_count": 139,
   "id": "9e975539",
   "metadata": {},
   "outputs": [
    {
     "name": "stdout",
     "output_type": "stream",
     "text": [
      "[3, 5, 7]\n"
     ]
    }
   ],
   "source": [
    "# Exercise 7 - refactor using numpy to determine the odds_in_b\n",
    "odds_in_b = []\n",
    "for row in b:\n",
    "    for number in row:\n",
    "        if(number % 2 != 0):\n",
    "            odds_in_b.append(number)\n",
    "print(odds_in_b)"
   ]
  },
  {
   "cell_type": "code",
   "execution_count": 140,
   "id": "eb0cd159",
   "metadata": {},
   "outputs": [
    {
     "name": "stdout",
     "output_type": "stream",
     "text": [
      "[4, 6, 8]\n"
     ]
    }
   ],
   "source": [
    "# Exercise 8 - refactor the following to use numpy to filter only the even numbers\n",
    "evens_in_b = []\n",
    "for row in b:\n",
    "    for number in row:\n",
    "        if(number % 2 == 0):\n",
    "            evens_in_b.append(number)\n",
    "print(evens_in_b)"
   ]
  },
  {
   "cell_type": "code",
   "execution_count": 234,
   "id": "536e84f4",
   "metadata": {},
   "outputs": [
    {
     "name": "stdout",
     "output_type": "stream",
     "text": [
      "(2, 3)\n"
     ]
    }
   ],
   "source": [
    "# Exercise 9 - print out the shape of the array b.\n",
    "\n",
    "b =np.array([\n",
    "    [3, 4, 5],\n",
    "    [6, 7, 8]])\n",
    "\n",
    "shape = b.shape\n",
    "\n",
    "\n",
    "print(shape)\n"
   ]
  },
  {
   "cell_type": "code",
   "execution_count": 142,
   "id": "3d64d34b",
   "metadata": {},
   "outputs": [
    {
     "name": "stdout",
     "output_type": "stream",
     "text": [
      "[[3 6]\n",
      " [4 7]\n",
      " [5 8]]\n"
     ]
    }
   ],
   "source": [
    "# Exercise 10 - transpose the array b.\n",
    "\n",
    "num = np.transpose(b)\n",
    "\n",
    "print(num)\n",
    "\n",
    "\n"
   ]
  },
  {
   "cell_type": "code",
   "execution_count": 226,
   "id": "eb40e97a",
   "metadata": {},
   "outputs": [
    {
     "ename": "SyntaxError",
     "evalue": "invalid syntax (<ipython-input-226-569f79464e5e>, line 10)",
     "output_type": "error",
     "traceback": [
      "\u001b[0;36m  File \u001b[0;32m\"<ipython-input-226-569f79464e5e>\"\u001b[0;36m, line \u001b[0;32m10\u001b[0m\n\u001b[0;31m    b([:,None])\u001b[0m\n\u001b[0m       ^\u001b[0m\n\u001b[0;31mSyntaxError\u001b[0m\u001b[0;31m:\u001b[0m invalid syntax\n"
     ]
    }
   ],
   "source": [
    "# Exercise 11 - reshape the array b to be a single list of 6 numbers. (1 x 6)\n",
    "\n",
    "b =np.array([\n",
    "    [3, 4, 5],\n",
    "    [6, 7, 8]])\n",
    "\n",
    "\n",
    "\n",
    "ray = np.arange(b)\n",
    "b([:,None])\n",
    "\n",
    "print(b)"
   ]
  },
  {
   "cell_type": "code",
   "execution_count": 227,
   "id": "eaa66560",
   "metadata": {},
   "outputs": [],
   "source": [
    "# Exercise 12 - reshape the array b to be a list of 6 lists, each containing only 1 number (6 x 1)\n",
    "\n",
    "\n",
    "\n"
   ]
  },
  {
   "cell_type": "code",
   "execution_count": 229,
   "id": "36ecda50",
   "metadata": {},
   "outputs": [
    {
     "name": "stdout",
     "output_type": "stream",
     "text": [
      "45\n",
      "1\n",
      "9\n",
      "362880\n"
     ]
    }
   ],
   "source": [
    "## Setup 3\n",
    "\n",
    "import numpy as np\n",
    "\n",
    "\n",
    "\n",
    "c =np.array ([\n",
    "    [1, 2, 3],\n",
    "    [4, 5, 6],\n",
    "    [7, 8, 9]\n",
    "])\n",
    "\n",
    "sum_num = np.sum(c)\n",
    "min_num = np.min(c)\n",
    "max_num = np.max(c)\n",
    "product_num = np.prod(c)\n",
    "\n",
    "\n",
    "print(sum_num)\n",
    "print(min_num)\n",
    "print(max_num)\n",
    "print(product_num)\n",
    "\n",
    "\n",
    "\n",
    "# HINT, you'll first need to make sure that the \"c\" variable is a numpy array prior to using numpy array methods.\n",
    "# Exercise 1 - Find the min, max, sum, and product of c."
   ]
  },
  {
   "cell_type": "code",
   "execution_count": 231,
   "id": "a3cc080d",
   "metadata": {},
   "outputs": [
    {
     "name": "stdout",
     "output_type": "stream",
     "text": [
      "2.581988897471611\n"
     ]
    }
   ],
   "source": [
    "# Exercise 2 - Determine the standard deviation of c.\n",
    "\n",
    "std_num = np.std(c)\n",
    "\n",
    "print(std_num)\n",
    "\n"
   ]
  },
  {
   "cell_type": "code",
   "execution_count": 232,
   "id": "c5e5f1d5",
   "metadata": {},
   "outputs": [
    {
     "data": {
      "text/plain": [
       "array([[-1.22474487, -1.22474487, -1.22474487],\n",
       "       [ 0.        ,  0.        ,  0.        ],\n",
       "       [ 1.22474487,  1.22474487,  1.22474487]])"
      ]
     },
     "execution_count": 232,
     "metadata": {},
     "output_type": "execute_result"
    }
   ],
   "source": [
    "# Exercise 3 - Determine the variance of c.\n",
    "\n",
    "import pandas as pd\n",
    "import numpy as np\n",
    "import scipy.stats as stats\n",
    "\n",
    "stats.zscore(c)\n"
   ]
  },
  {
   "cell_type": "code",
   "execution_count": 233,
   "id": "dde848e7",
   "metadata": {},
   "outputs": [
    {
     "name": "stdout",
     "output_type": "stream",
     "text": [
      "(3, 3)\n"
     ]
    }
   ],
   "source": [
    "# Exercise 4 - Print out the shape of the array c\n",
    "\n",
    "\n",
    "shape = c.shape\n",
    "\n",
    "print(shape)\n",
    "\n",
    "\n",
    "\n"
   ]
  },
  {
   "cell_type": "code",
   "execution_count": 235,
   "id": "0ba56aa5",
   "metadata": {},
   "outputs": [
    {
     "name": "stdout",
     "output_type": "stream",
     "text": [
      "[[1 4 7]\n",
      " [2 5 8]\n",
      " [3 6 9]]\n"
     ]
    }
   ],
   "source": [
    "# Exercise 5 - Transpose c and print out transposed result.\n",
    "\n",
    "num = np.transpose(c)\n",
    "\n",
    "print(num)\n",
    "\n",
    "\n"
   ]
  },
  {
   "cell_type": "code",
   "execution_count": null,
   "id": "dd4c7b02",
   "metadata": {},
   "outputs": [],
   "source": []
  }
 ],
 "metadata": {
  "kernelspec": {
   "display_name": "Python 3",
   "language": "python",
   "name": "python3"
  },
  "language_info": {
   "codemirror_mode": {
    "name": "ipython",
    "version": 3
   },
   "file_extension": ".py",
   "mimetype": "text/x-python",
   "name": "python",
   "nbconvert_exporter": "python",
   "pygments_lexer": "ipython3",
   "version": "3.8.8"
  }
 },
 "nbformat": 4,
 "nbformat_minor": 5
}
